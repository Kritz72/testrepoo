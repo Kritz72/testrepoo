{
 "cells": [
  {
   "cell_type": "markdown",
   "id": "d5d35043-b3eb-4ad2-8713-cada1fbcfe28",
   "metadata": {},
   "source": [
    "# Data Science Tools and Ecosystem"
   ]
  },
  {
   "cell_type": "markdown",
   "id": "3876620a-0bf2-4d55-bfac-e248413bde66",
   "metadata": {},
   "source": [
    "In this notebook, Data Science Tools and Ecosystem are summarized."
   ]
  },
  {
   "cell_type": "markdown",
   "id": "0ac0ee23-9c99-4347-9e8b-ac9013956942",
   "metadata": {},
   "source": [
    "Some of the popular languages that Data Scientists use are:"
   ]
  },
  {
   "cell_type": "markdown",
   "id": "8c2d8e23-906f-4267-9521-accf89af2316",
   "metadata": {},
   "source": [
    "1. **Python**\n",
    "2. **R**\n",
    "3. **Java**"
   ]
  },
  {
   "cell_type": "markdown",
   "id": "553210cc-f234-465d-87c2-e0862c696cb0",
   "metadata": {},
   "source": [
    "Some of the commonly used libraries used by Data Scientists include:"
   ]
  },
  {
   "cell_type": "markdown",
   "id": "70271947-ea85-47f9-905c-53d1bc67dabd",
   "metadata": {},
   "source": [
    "1. **Matplotlib**\n",
    "2. **Pandas**\n",
    "3. **Numpy**"
   ]
  },
  {
   "cell_type": "markdown",
   "id": "58d3c8e1-36b6-4cf2-b1e2-2f3b6cbc117e",
   "metadata": {},
   "source": [
    "| Data Science Tools |\n",
    "|--------------------|\n",
    "| Apache Hadoop |\n",
    "| TensorFlow |\n",
    "| RStudio |"
   ]
  },
  {
   "cell_type": "markdown",
   "id": "a3a1b17d-80f5-4527-bb1c-87f558951490",
   "metadata": {},
   "source": [
    "### Below are a few examples of evaluating arithmetic expressions in Python."
   ]
  },
  {
   "cell_type": "markdown",
   "id": "114d1406-3089-43fd-aa90-869254969696",
   "metadata": {},
   "source": [
    "This a simple arithmetic expression to mutiply then add integers"
   ]
  },
  {
   "cell_type": "code",
   "execution_count": 3,
   "id": "eb806083-678d-414a-9433-11e76505e02f",
   "metadata": {},
   "outputs": [
    {
     "data": {
      "text/plain": [
       "17"
      ]
     },
     "execution_count": 3,
     "metadata": {},
     "output_type": "execute_result"
    }
   ],
   "source": [
    "(3*4)+5"
   ]
  },
  {
   "cell_type": "markdown",
   "id": "68c55a8f-7cb0-4866-aed0-cc120cff31a2",
   "metadata": {},
   "source": [
    "This will convert 200 minutes to hours by diving by 60"
   ]
  },
  {
   "cell_type": "code",
   "execution_count": 4,
   "id": "2f535b4e-3073-477f-82c4-2c8b7f5709ac",
   "metadata": {},
   "outputs": [
    {
     "data": {
      "text/plain": [
       "3.3333333333333335"
      ]
     },
     "execution_count": 4,
     "metadata": {},
     "output_type": "execute_result"
    }
   ],
   "source": [
    "200/60"
   ]
  },
  {
   "cell_type": "markdown",
   "id": "fbabb8b0-193b-43c6-9db4-7186d552f4ca",
   "metadata": {},
   "source": [
    "**Objectives**"
   ]
  },
  {
   "cell_type": "markdown",
   "id": "bd6d0e10-664e-454f-8628-e2317cd4148b",
   "metadata": {},
   "source": [
    "+ Python\n",
    "+ R\n",
    "+ Java\n",
    "+ Javascript"
   ]
  },
  {
   "cell_type": "markdown",
   "id": "691f2b43-597d-4c83-8c70-600532d8656c",
   "metadata": {},
   "source": [
    "## Author"
   ]
  },
  {
   "cell_type": "markdown",
   "id": "5edf218b-dff5-4066-a310-37697b30101f",
   "metadata": {},
   "source": [
    "Krittika Mondal"
   ]
  },
  {
   "cell_type": "code",
   "execution_count": null,
   "id": "f5578d39-d564-45b4-bcab-5b9867f25389",
   "metadata": {},
   "outputs": [],
   "source": []
  }
 ],
 "metadata": {
  "kernelspec": {
   "display_name": "Python 3 (ipykernel)",
   "language": "python",
   "name": "python3"
  },
  "language_info": {
   "codemirror_mode": {
    "name": "ipython",
    "version": 3
   },
   "file_extension": ".py",
   "mimetype": "text/x-python",
   "name": "python",
   "nbconvert_exporter": "python",
   "pygments_lexer": "ipython3",
   "version": "3.9.13"
  }
 },
 "nbformat": 4,
 "nbformat_minor": 5
}
